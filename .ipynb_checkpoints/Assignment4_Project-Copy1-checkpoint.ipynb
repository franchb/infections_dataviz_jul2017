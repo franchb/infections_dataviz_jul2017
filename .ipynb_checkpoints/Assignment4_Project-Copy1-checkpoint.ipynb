{
 "cells": [
  {
   "cell_type": "markdown",
   "metadata": {},
   "source": [
    "# Assignment 4 - Building a Custom Visualization\n",
    "\n",
    "---"
   ]
  },
  {
   "cell_type": "markdown",
   "metadata": {},
   "source": [
    "# Solution\n",
    "\n",
    "**Student:** Ilya Rusin (irusin@protonmail.ch), Twitter  [@rusin](https://twitter.com/rusin)\n",
    "\n",
    "**Date:** 15 July 2017\n"
   ]
  },
  {
   "cell_type": "code",
   "execution_count": 3,
   "metadata": {
    "collapsed": true
   },
   "outputs": [],
   "source": [
    "import matplotlib.pyplot as plt\n",
    "import matplotlib.ticker as ticker\n",
    "from matplotlib.widgets import SpanSelector, Cursor\n",
    "import matplotlib.cm as cm\n",
    "import matplotlib.colors as col\n",
    "\n",
    "import pandas as pd\n",
    "import numpy as np\n",
    "from scipy.stats import norm\n",
    "\n",
    "# use the 'seaborn-colorblind' style\n",
    "plt.style.use('seaborn-colorblind')\n",
    "import seaborn as sns"
   ]
  },
  {
   "cell_type": "markdown",
   "metadata": {},
   "source": [
    "## 1. Data class"
   ]
  },
  {
   "cell_type": "code",
   "execution_count": null,
   "metadata": {
    "collapsed": true
   },
   "outputs": [],
   "source": [
    "class infectData:\n",
    "    \"\"\"\n",
    "    A base class that can be used for retrieving data from Infections Dataset.\n",
    "    \"\"\"\n",
    "    \n",
    "    # instantiate the class\n",
    "    def __init__(self): \n",
    "        \"\"\"\n",
    "        Initialize the data and a new figure.\n",
    "        \"\"\"\n",
    "        \n",
    "          # seed for data.\n",
    "        np.random.seed(12345)\n",
    "        # get some data to plot\n",
    "\n",
    "        self.df = "
   ]
  },
  {
   "cell_type": "code",
   "execution_count": null,
   "metadata": {
    "collapsed": true
   },
   "outputs": [],
   "source": []
  },
  {
   "cell_type": "code",
   "execution_count": null,
   "metadata": {
    "collapsed": true
   },
   "outputs": [],
   "source": []
  },
  {
   "cell_type": "markdown",
   "metadata": {},
   "source": [
    "## 2. Charting classes"
   ]
  },
  {
   "cell_type": "code",
   "execution_count": null,
   "metadata": {
    "collapsed": true
   },
   "outputs": [],
   "source": []
  }
 ],
 "metadata": {
  "kernelspec": {
   "display_name": "Python 3",
   "language": "python",
   "name": "python3"
  },
  "language_info": {
   "codemirror_mode": {
    "name": "ipython",
    "version": 3
   },
   "file_extension": ".py",
   "mimetype": "text/x-python",
   "name": "python",
   "nbconvert_exporter": "python",
   "pygments_lexer": "ipython3",
   "version": "3.6.1"
  }
 },
 "nbformat": 4,
 "nbformat_minor": 2
}
