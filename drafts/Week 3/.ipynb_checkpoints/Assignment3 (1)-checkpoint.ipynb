{
 "cells": [
  {
   "cell_type": "markdown",
   "metadata": {},
   "source": [
    "# Assignment 3 - Building a Custom Visualization\n",
    "\n",
    "---\n",
    "\n",
    "In this assignment you must choose one of the options presented below and submit a visual as well as your source code for peer grading. The details of how you solve the assignment are up to you, although your assignment must use matplotlib so that your peers can evaluate your work. The options differ in challenge level, but there are no grades associated with the challenge level you chose. However, your peers will be asked to ensure you at least met a minimum quality for a given technique in order to pass. Implement the technique fully (or exceed it!) and you should be able to earn full grades for the assignment.\n",
    "\n",
    "\n",
    "&nbsp;&nbsp;&nbsp;&nbsp;&nbsp;&nbsp;Ferreira, N., Fisher, D., & Konig, A. C. (2014, April). [Sample-oriented task-driven visualizations: allowing users to make better, more confident decisions.](https://www.microsoft.com/en-us/research/wp-content/uploads/2016/02/Ferreira_Fisher_Sample_Oriented_Tasks.pdf) \n",
    "&nbsp;&nbsp;&nbsp;&nbsp;&nbsp;&nbsp;In Proceedings of the SIGCHI Conference on Human Factors in Computing Systems (pp. 571-580). ACM. ([video](https://www.youtube.com/watch?v=BI7GAs-va-Q))\n",
    "\n",
    "\n",
    "In this [paper](https://www.microsoft.com/en-us/research/wp-content/uploads/2016/02/Ferreira_Fisher_Sample_Oriented_Tasks.pdf) the authors describe the challenges users face when trying to make judgements about probabilistic data generated through samples. As an example, they look at a bar chart of four years of data (replicated below in Figure 1). Each year has a y-axis value, which is derived from a sample of a larger dataset. For instance, the first value might be the number votes in a given district or riding for 1992, with the average being around 33,000. On top of this is plotted the 95% confidence interval for the mean (see the boxplot lectures for more information, and the yerr parameter of barcharts).\n",
    "\n",
    "<br>\n",
    "<img src=\"readonly/Assignment3Fig1.png\" alt=\"Figure 1\" style=\"width: 400px;\"/>\n",
    "<h4 style=\"text-align: center;\" markdown=\"1\">  &nbsp;&nbsp;&nbsp;&nbsp;&nbsp;&nbsp;&nbsp;&nbsp;Figure 1 from (Ferreira et al, 2014).</h4>\n",
    "\n",
    "<br>\n",
    "\n",
    "A challenge that users face is that, for a given y-axis value (e.g. 42,000), it is difficult to know which x-axis values are most likely to be representative, because the confidence levels overlap and their distributions are different (the lengths of the confidence interval bars are unequal). One of the solutions the authors propose for this problem (Figure 2c) is to allow users to indicate the y-axis value of interest (e.g. 42,000) and then draw a horizontal line and color bars based on this value. So bars might be colored red if they are definitely above this value (given the confidence interval), blue if they are definitely below this value, or white if they contain this value.\n",
    "\n",
    "\n",
    "<br>\n",
    "<img src=\"readonly/Assignment3Fig2c.png\" alt=\"Figure 1\" style=\"width: 400px;\"/>\n",
    "<h4 style=\"text-align: center;\" markdown=\"1\">  Figure 2c from (Ferreira et al. 2014). Note that the colorbar legend at the bottom as well as the arrows are not required in the assignment descriptions below.</h4>\n",
    "\n",
    "<br>\n",
    "<br>\n",
    "\n",
    "**Easiest option:** Implement the bar coloring as described above - a color scale with only three colors, (e.g. blue, white, and red). Assume the user provides the y axis value of interest as a parameter or variable.\n",
    "\n",
    "\n",
    "**Harder option:** Implement the bar coloring as described in the paper, where the color of the bar is actually based on the amount of data covered (e.g. a gradient ranging from dark blue for the distribution being certainly below this y-axis, to white if the value is certainly contained, to dark red if the value is certainly not contained as the distribution is above the axis).\n",
    "\n",
    "**Even Harder option:** Add interactivity to the above, which allows the user to click on the y axis to set the value of interest. The bar colors should change with respect to what value the user has selected.\n",
    "\n",
    "**Hardest option:** Allow the user to interactively set a range of y values they are interested in, and recolor based on this (e.g. a y-axis band, see the paper for more details).\n",
    "\n",
    "---\n",
    "\n",
    "*Note: The data given for this assignment is not the same as the data used in the article and as a result the visualizations may look a little different.*"
   ]
  },
  {
   "cell_type": "code",
   "execution_count": null,
   "metadata": {
    "collapsed": true
   },
   "outputs": [],
   "source": [
    "#Optional - better Gtk\n",
    "\n",
    "%matplotlib notebook"
   ]
  },
  {
   "cell_type": "code",
   "execution_count": 1,
   "metadata": {
    "collapsed": true
   },
   "outputs": [],
   "source": [
    "import matplotlib.pyplot as plt\n",
    "import matplotlib.gridspec as gridspec\n",
    "import mpl_toolkits.axes_grid1.inset_locator as mpl_il\n",
    "import matplotlib.ticker as ticker\n",
    "import matplotlib.animation as animation\n",
    "from matplotlib.widgets import SpanSelector\n",
    "import matplotlib.cm as cm\n",
    "import matplotlib.colors as col\n",
    "\n",
    "import pandas as pd\n",
    "import numpy as np\n",
    "import scipy.stats as stats\n",
    "from scipy.stats import norm"
   ]
  },
  {
   "cell_type": "code",
   "execution_count": 3,
   "metadata": {
    "collapsed": false
   },
   "outputs": [],
   "source": [
    "\n",
    "np.random.seed(12345)\n",
    "\n",
    "n1 = 3650\n",
    "\n",
    "df = pd.DataFrame([np.random.normal(32000,200000,n1), \n",
    "                   np.random.normal(43000,100000,n1), \n",
    "                   np.random.normal(43500,140000,n1), \n",
    "                   np.random.normal(48000,70000,n1)], \n",
    "                  index=[1992,1993,1994,1995])\n",
    "df1 = df.transpose().describe()"
   ]
  },
  {
   "cell_type": "code",
   "execution_count": 4,
   "metadata": {
    "collapsed": false
   },
   "outputs": [
    {
     "data": {
      "text/html": [
       "<div>\n",
       "<table border=\"1\" class=\"dataframe\">\n",
       "  <thead>\n",
       "    <tr style=\"text-align: right;\">\n",
       "      <th></th>\n",
       "      <th>1992</th>\n",
       "      <th>1993</th>\n",
       "      <th>1994</th>\n",
       "      <th>1995</th>\n",
       "    </tr>\n",
       "  </thead>\n",
       "  <tbody>\n",
       "    <tr>\n",
       "      <th>count</th>\n",
       "      <td>3650.000000</td>\n",
       "      <td>3650.000000</td>\n",
       "      <td>3650.000000</td>\n",
       "      <td>3650.000000</td>\n",
       "    </tr>\n",
       "    <tr>\n",
       "      <th>mean</th>\n",
       "      <td>33312.107476</td>\n",
       "      <td>41861.859541</td>\n",
       "      <td>39493.304941</td>\n",
       "      <td>47743.550969</td>\n",
       "    </tr>\n",
       "    <tr>\n",
       "      <th>std</th>\n",
       "      <td>200630.901553</td>\n",
       "      <td>98398.356203</td>\n",
       "      <td>140369.925240</td>\n",
       "      <td>69781.185469</td>\n",
       "    </tr>\n",
       "    <tr>\n",
       "      <th>min</th>\n",
       "      <td>-717071.175466</td>\n",
       "      <td>-321586.023683</td>\n",
       "      <td>-450827.613097</td>\n",
       "      <td>-189865.963265</td>\n",
       "    </tr>\n",
       "    <tr>\n",
       "      <th>25%</th>\n",
       "      <td>-102740.398364</td>\n",
       "      <td>-26628.302213</td>\n",
       "      <td>-57436.397393</td>\n",
       "      <td>1774.555612</td>\n",
       "    </tr>\n",
       "    <tr>\n",
       "      <th>50%</th>\n",
       "      <td>29674.931050</td>\n",
       "      <td>43001.976658</td>\n",
       "      <td>41396.781369</td>\n",
       "      <td>49404.322978</td>\n",
       "    </tr>\n",
       "    <tr>\n",
       "      <th>75%</th>\n",
       "      <td>167441.838695</td>\n",
       "      <td>108296.577923</td>\n",
       "      <td>137261.713785</td>\n",
       "      <td>94164.333867</td>\n",
       "    </tr>\n",
       "    <tr>\n",
       "      <th>max</th>\n",
       "      <td>817505.608159</td>\n",
       "      <td>395586.505068</td>\n",
       "      <td>490091.665037</td>\n",
       "      <td>320826.888044</td>\n",
       "    </tr>\n",
       "  </tbody>\n",
       "</table>\n",
       "</div>"
      ],
      "text/plain": [
       "                1992           1993           1994           1995\n",
       "count    3650.000000    3650.000000    3650.000000    3650.000000\n",
       "mean    33312.107476   41861.859541   39493.304941   47743.550969\n",
       "std    200630.901553   98398.356203  140369.925240   69781.185469\n",
       "min   -717071.175466 -321586.023683 -450827.613097 -189865.963265\n",
       "25%   -102740.398364  -26628.302213  -57436.397393    1774.555612\n",
       "50%     29674.931050   43001.976658   41396.781369   49404.322978\n",
       "75%    167441.838695  108296.577923  137261.713785   94164.333867\n",
       "max    817505.608159  395586.505068  490091.665037  320826.888044"
      ]
     },
     "execution_count": 4,
     "metadata": {},
     "output_type": "execute_result"
    }
   ],
   "source": [
    "df1"
   ]
  },
  {
   "cell_type": "markdown",
   "metadata": {},
   "source": [
    "## Some theory about stats\n",
    "\n",
    "Specifically, if $\\sigma$ is the standard deviation of the distribution of the sample, then $\\frac{\\sigma}{\\sqrt{N}}$ is the standard deviation of the mean.\n",
    "\n",
    "$$ \\sigma_{\\textrm{mean}_i} = \\frac{\\sigma_{\\textrm{distribution}_i}}{\\sqrt{N_i}} $$\n",
    "\n",
    "The mean is normally distributed (at least for large $N$) for any reasonable distribution by the _Central Limit Theorem_, and hence the 95% confidence interval of the mean is: \n",
    "$$ CI_i = \\mu_i\\pm1.96*\\sigma_{\\textrm{mean}_i} $$ \n",
    "\n",
    "The standard deviation of the mean is also often called the standard error.\n",
    "\n",
    "### So the formula for Confidence Interval is\n",
    "\n",
    "$$ CI_i = \\mu_i\\pm1.96*\\frac{\\sigma_{\\textrm{distribution}_i}}{\\sqrt{N_i}} $$ \n",
    "\n"
   ]
  },
  {
   "cell_type": "code",
   "execution_count": 5,
   "metadata": {
    "collapsed": false
   },
   "outputs": [],
   "source": [
    "mean_std = [i/((n1)**0.5)*1.96 for i in df1.loc['std'].values]"
   ]
  },
  {
   "cell_type": "markdown",
   "metadata": {},
   "source": [
    "## Plotting"
   ]
  },
  {
   "cell_type": "markdown",
   "metadata": {},
   "source": [
    "### 1. Configurations"
   ]
  },
  {
   "cell_type": "code",
   "execution_count": 7,
   "metadata": {
    "collapsed": true
   },
   "outputs": [],
   "source": [
    "def axes_magic():\n",
    "    #plt.axhline(y=165, color='black')\n",
    "    plt.xticks(df.index.values.tolist(), [str(s) for s in df.index.values.tolist()])\n",
    "\n",
    "    #ax1.spines['bottom'].set_position(('axes', 1000))\n",
    "    ax1.spines['left'].set_bounds(-10000, df1.loc['mean'].max()*1.15)\n",
    "    ax1.spines['bottom'].set_bounds(1991, 1996)\n",
    "    ax1.spines['right'].set_color('none')\n",
    "    #ax.spines['bottom'].set_position(('axes', 0.1))\n",
    "    ax1.spines['top'].set_color('none')\n",
    "    #ax.spines['left'].set_smart_bounds(True)\n",
    "    #ax.spines['bottom'].set_smart_bounds(True)\n",
    "    ax1.yaxis.set_ticks_position('left')\n",
    "    ax1.xaxis.set_ticks_position('none') \n",
    "    \n",
    "\n",
    "    #ax1.spines['bottom'].set_position('axes', (0,0))\n",
    "\n",
    "    #ax1.tick_params(which='major', width=1.00, length=5)\n",
    "    #ax1.tick_params(which='minor', width=0.75, length=2.5, labelsize=10)\n",
    "\n",
    "    ax1.yaxis.set_major_locator(ticker.MaxNLocator(8))\n",
    "    ax1.yaxis.set_minor_locator(ticker.MaxNLocator(24))\n",
    "    #ax1.yaxis.set_major_locator(ticker.MultipleLocator(1.00))\n",
    "    #ax1.yaxis.set_minor_locator(ticker.MultipleLocator(0.25))\n",
    "    ax1.yaxis.set_major_formatter(ticker.StrMethodFormatter(\"{x:,}\"))\n",
    "    ax1.spines['bottom'].set_smart_bounds(True)\n",
    "\n",
    "    #ax1.set_ylim(0-df1.loc['mean'].max()*0.30, df1.loc['mean'].max()*1.15)\n",
    "    plt.tick_params(axis='x', which='major', labelsize=16, pad = 20)"
   ]
  },
  {
   "cell_type": "code",
   "execution_count": 31,
   "metadata": {
    "collapsed": true
   },
   "outputs": [],
   "source": [
    "color_boundaries = np.arange(0,1,0.11)\n",
    "normal_b = col.BoundaryNorm(boundaries=color_boundaries, ncolors=10)\n",
    "mapper_b = cm.ScalarMappable(norm=normal_b, cmap=cm.Reds_r)\n",
    "\n",
    "\n",
    "normal = col.Normalize(vmin=0, vmax=1, clip=True)\n",
    "mapper = cm.ScalarMappable(norm=normal, cmap=cm.Reds_r)"
   ]
  },
  {
   "cell_type": "code",
   "execution_count": null,
   "metadata": {
    "collapsed": true
   },
   "outputs": [],
   "source": []
  },
  {
   "cell_type": "code",
   "execution_count": 23,
   "metadata": {
    "collapsed": true
   },
   "outputs": [],
   "source": []
  },
  {
   "cell_type": "markdown",
   "metadata": {},
   "source": [
    "### 2. Main algorithm"
   ]
  },
  {
   "cell_type": "markdown",
   "metadata": {},
   "source": [
    "We need to evaluate probabilify $F(X)$ of a distribution's value falling within a range $\\left(x_{\\textrm{min}};x_{\\textrm{max}}\\right)$ $-$ the probability that the distribution represented by the error bar is contained in the region mapped as a color to the corresponding bar.\n",
    "\n",
    "It tests if the value is inside or outside the range.\n",
    "\n",
    "\n",
    "As [Wikipedia](https://en.wikipedia.org/wiki/Cumulative_distribution_function) says:\n",
    ">In probability theory and statistics, the **cumulative distribution function (CDF)** of a real-valued random variable X, or just distribution function of X, evaluated at x, is the probability that X will take a value less than or equal to x.\n",
    "\n",
    ">![](https://upload.wikimedia.org/wikipedia/commons/thumb/c/ca/Normal_Distribution_CDF.svg/320px-Normal_Distribution_CDF.svg.png)\n",
    "\n",
    ">Cumulative distribution functions are also used to specify the distribution of multivariate random variables."
   ]
  },
  {
   "cell_type": "markdown",
   "metadata": {},
   "source": [
    "The probability that $X$ lies in the semi-closed interval $(a, b]$, where $a  <  b$, is therefore:\n",
    "\n",
    "$$ P(a < X <= b) = F_X(b) - F_X(a) $$\n",
    "\n",
    "As we have range, the CDF of a continuous random variable X can be expressed as the integral of its probability density function $F(X)$ as follows:\n",
    "$$ F_X(x) = \\int_{x_{\\textrm{min}}}^{x_{\\textrm{max}}}f_X(t)dt$$\n",
    "\n",
    "In SciPy there are a function **scipy.stats.rv_continuous.cdf** $-$ cumulative distribution function of the given RV:\n",
    "\n",
    ">```stats.rv_continuous.cdf(x, *args, **kwds)```\n",
    "\n",
    "> or simply ```norm.cdf```\n",
    "\n",
    "For range:\n",
    ">```F_X = norm.cdf(xmax, mean, sigma) - norm.cdf(xmin, mean, sigma)```"
   ]
  },
  {
   "cell_type": "code",
   "execution_count": 48,
   "metadata": {
    "collapsed": false
   },
   "outputs": [],
   "source": [
    "def onselect(xmin, xmax):\n",
    "    cdf_i = lambda i: norm.cdf(xmax, df1.ix['mean'].values[i], mean_std[i]) -\\\n",
    "               norm.cdf(xmin, df1.ix['mean'].values[i], mean_std[i])\n",
    "        \n",
    "    CDFs = [cdf_i(j) for j in range(len(mean_std))]\n",
    "    for i, rect in enumerate(rects):\n",
    "        rect.set_color(mapper.to_rgba(CDFs[i]))\n",
    "        plt.text(1992+i, 48000,'{:.2f}'.format(CDFs[i]), bbox={'facecolor':'grey', 'alpha':1, 'pad':2})\n",
    "    fig.canvas.draw()"
   ]
  },
  {
   "cell_type": "code",
   "execution_count": 49,
   "metadata": {
    "collapsed": false
   },
   "outputs": [],
   "source": [
    "fig = plt.figure(figsize=(9, 6), dpi= 80, facecolor='w', edgecolor='k')\n",
    "ax1 = fig.add_subplot(111)\n",
    "axes_magic()\n"
   ]
  },
  {
   "cell_type": "code",
   "execution_count": 50,
   "metadata": {
    "collapsed": false
   },
   "outputs": [],
   "source": [
    "rects = ax1.bar(df.index.values.tolist(), df1.ix['mean'].values,\\\n",
    "        align = 'center', yerr=mean_std, error_kw=error_config, alpha = 0.8)"
   ]
  },
  {
   "cell_type": "code",
   "execution_count": 51,
   "metadata": {
    "collapsed": false
   },
   "outputs": [],
   "source": [
    "span = SpanSelector(ax1, onselect, 'vertical', useblit=True, span_stays = True,\n",
    "                    rectprops=dict(alpha=0.5, facecolor='red'))"
   ]
  },
  {
   "cell_type": "code",
   "execution_count": 52,
   "metadata": {
    "collapsed": false
   },
   "outputs": [],
   "source": [
    "plt.show()"
   ]
  },
  {
   "cell_type": "code",
   "execution_count": 90,
   "metadata": {
    "collapsed": true
   },
   "outputs": [],
   "source": [
    "class iProbabilisticBarChart:\n",
    "    \"\"\"\n",
    "    A base class that can be used for creating clicable probabilistic charts and solving\n",
    "    the challenges of interpreting plots with confidence intervals.\n",
    "    \"\"\"\n",
    "    \n",
    "    # basic greys: lighter for regular, darker for emphasis\n",
    "    greys = ['#afafaf','#7b7b7b'] # ticks and boxes, arrows, legend ticks and text\n",
    "    # horizontal bar: nice red\n",
    "    horzo_bar = '#004a80'\n",
    "    # set bar colormap\n",
    "    cmap = cm.get_cmap('RdBu')\n",
    "    \n",
    "    # instantiate the class\n",
    "    def __init__(self): \n",
    "        \"\"\"\n",
    "        Initialize the data and a new figure.\n",
    "        \"\"\"\n",
    "        \n",
    "        # seed for data.\n",
    "        np.random.seed(12345)\n",
    "        # get some data to plot\n",
    "        self.n1 = 3650\n",
    "        self.df = pd.DataFrame(np.c_[np.random.normal(32000, 200000,n1), # np.c_ class to transpose array faster\n",
    "                   np.random.normal(43000, 100000, self.n1), \n",
    "                   np.random.normal(43500, 140000, self.n1), \n",
    "                   np.random.normal(48000, 70000, self.n1)], \n",
    "                  columns = [1992, 1993, 1994, 1995])\n",
    "        \n",
    "        self.df_stats = self.df.describe()\n",
    "        \n",
    "        # get means standart deviation\n",
    "        self.means_std = [i/((self.n1)**0.5)*1.96 for i in self.df_stats.loc['std'].values]\n",
    "\n",
    "        self.fig = plt.figure(figsize=(9, 6), dpi= 80, facecolor='w', edgecolor='k')\n",
    "        self.ax1 = self.fig.add_subplot(111)\n",
    "        \n",
    "        # plot the bar chart and make a reference to the rectangles\n",
    "        self.rects = self.ax1.bar(\n",
    "            range(len(self.df.columns)), \n",
    "            self.df_stats.loc['mean'].values,\n",
    "            yerr = self.means_std,\n",
    "            align='center', \n",
    "            alpha=0.8, \n",
    "            color=self.greys[0],\n",
    "            error_kw=dict(ecolor = 'gray', lw = 2, capsize = 20, capthick = 2, elinewidth = 2))\n",
    "        \n",
    "        ## TICKS AND TEXT AND SPINES\n",
    "        \n",
    "        plt.title('Confidence Interval Interactivity:\\n Click the Chart To Recolor', color=self.greys[1])\n",
    "        plt.xticks(range(len(self.df.columns)), self.df.columns)\n",
    "        \n",
    "        # do some formatting \n",
    "        self.formatArtists(self.ax1)\n",
    "        \n",
    "        # do some color magic\n",
    "        self.color_boundaries = np.arange(0, 1, 0.11)\n",
    "        self.normal_b = col.BoundaryNorm(boundaries = self.color_boundaries, ncolors=10)\n",
    "        self.mapper_b = cm.ScalarMappable(norm = self.normal_b, cmap=cm.Reds_r)\n",
    "\n",
    "\n",
    "        self.normal = col.Normalize(vmin=0, vmax=1, clip=True)\n",
    "        self.mapper = cm.ScalarMappable(norm=self.normal, cmap=cm.Reds_r)\n",
    "        \n",
    "        self.span = SpanSelector(ax1, self.onRangeSelect, 'vertical', useblit=True, span_stays = True,\n",
    "                    rectprops=dict(alpha=0.5, facecolor='red'))\n",
    "        \n",
    "    def formatArtists(self, ax):\n",
    "        \"\"\"\n",
    "        Does some recoloring and formatting of the ticks, labels, and spines.\n",
    "        Receives the axes of the current figure.\n",
    "        \"\"\"\n",
    "        # recolor the ticks\n",
    "        ax.xaxis.set_tick_params(which='major', colors=self.greys[1])\n",
    "        ax.yaxis.set_tick_params(which='major', colors=self.greys[1])\n",
    "\n",
    "        # recolor the spines\n",
    "        for pos in ['top', 'right', 'bottom', 'left']:\n",
    "            ax.spines[pos].set_edgecolor(self.greys[0])\n",
    "            \n",
    "        #plt.axhline(y=165, color='black')\n",
    "        #plt.xticks(df.index.values.tolist(), [str(s) for s in df.index.values.tolist()])\n",
    "\n",
    "        #ax.spines['bottom'].set_position(('axes', 1000))\n",
    "        ax.spines['left'].set_bounds(-10000, self.df_stats.loc['mean'].max()*1.15)\n",
    "        ax.spines['bottom'].set_bounds(1991, 1996)\n",
    "        ax.spines['right'].set_color('none')\n",
    "        #ax.spines['bottom'].set_position(('axes', 0.1))\n",
    "        ax.spines['top'].set_color('none')\n",
    "        #ax.spines['left'].set_smart_bounds(True)\n",
    "        #ax.spines['bottom'].set_smart_bounds(True)\n",
    "        ax.yaxis.set_ticks_position('left')\n",
    "        ax.xaxis.set_ticks_position('none') \n",
    "\n",
    "\n",
    "        #ax1.spines['bottom'].set_position('axes', (0,0))\n",
    "\n",
    "        #ax1.tick_params(which='major', width=1.00, length=5)\n",
    "        #ax1.tick_params(which='minor', width=0.75, length=2.5, labelsize=10)\n",
    "\n",
    "        ax.yaxis.set_major_locator(ticker.MaxNLocator(8))\n",
    "        ax.yaxis.set_minor_locator(ticker.MaxNLocator(24))\n",
    "        #ax1.yaxis.set_major_locator(ticker.MultipleLocator(1.00))\n",
    "        #ax1.yaxis.set_minor_locator(ticker.MultipleLocator(0.25))\n",
    "        ax.yaxis.set_major_formatter(ticker.StrMethodFormatter(\"{x:,}\"))\n",
    "        ax.spines['bottom'].set_smart_bounds(True)\n",
    "\n",
    "        #ax1.set_ylim(0-df1.loc['mean'].max()*0.30, df1.loc['mean'].max()*1.15)\n",
    "        plt.tick_params(axis='x', which='major', labelsize=16, pad = 20)            \n",
    "            \n",
    "    ## EVENT HANDLERS\n",
    "    def onRangeSelect(self, xmin, xmax): \n",
    "        \"\"\"\n",
    "        Handle the logic for handling bar coloring when the range slider \n",
    "        is set.\n",
    "        \"\"\"\n",
    "        \n",
    "        cdf_i = lambda i: norm.cdf(xmax,\n",
    "                                   self.df_stats.ix['mean'].values[i],\\\n",
    "                                   self.means_std[i]) -\\\n",
    "                          norm.cdf(xmin,\\\n",
    "                                   self.df_stats.ix['mean'].values[i],\\\n",
    "                                   self.means_std[i])\n",
    "\n",
    "        CDFs = [cdf_i(j) for j in range(len(self.means_std))]\n",
    "        \n",
    "        for i, rect in enumerate(self.rects):\n",
    "            rect.set_color(self.mapper.to_rgba(CDFs[i]))\n",
    "            plt.text(1992+i, 48000,'{:.2f}'.format(CDFs[i]), bbox={'facecolor':'grey', 'alpha':1, 'pad':2})\n",
    "        self.fig.canvas.draw()\n",
    "        \n",
    "    def showPlot(self):\n",
    "        \"\"\"\n",
    "        Convenience if not using the inline display setup %matplotlib notebook\n",
    "        \"\"\"\n",
    "        plt.show()    "
   ]
  },
  {
   "cell_type": "code",
   "execution_count": 91,
   "metadata": {
    "collapsed": false
   },
   "outputs": [],
   "source": [
    "ib = iProbabilisticBarChart()"
   ]
  },
  {
   "cell_type": "code",
   "execution_count": 92,
   "metadata": {
    "collapsed": false
   },
   "outputs": [],
   "source": [
    "ib.showPlot()"
   ]
  },
  {
   "cell_type": "code",
   "execution_count": null,
   "metadata": {
    "collapsed": true
   },
   "outputs": [],
   "source": []
  }
 ],
 "metadata": {
  "kernelspec": {
   "display_name": "Python 3",
   "language": "python",
   "name": "python3"
  },
  "language_info": {
   "codemirror_mode": {
    "name": "ipython",
    "version": 3
   },
   "file_extension": ".py",
   "mimetype": "text/x-python",
   "name": "python",
   "nbconvert_exporter": "python",
   "pygments_lexer": "ipython3",
   "version": "3.5.1"
  }
 },
 "nbformat": 4,
 "nbformat_minor": 2
}
