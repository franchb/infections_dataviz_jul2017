{
 "cells": [
  {
   "cell_type": "code",
   "execution_count": 3,
   "metadata": {
    "collapsed": false
   },
   "outputs": [],
   "source": [
    "from matplotlib.widgets import MultiCursor\n",
    "from pylab import figure, show, np\n",
    "t = np.arange(0.0, 2.0, 0.01)\n",
    "s1 = np.sin(2*np.pi*t)\n",
    "s2 = np.sin(4*np.pi*t)\n",
    "fig = figure()\n",
    "ax1 = fig.add_subplot(211)\n",
    "ax1.plot(t, s1)\n",
    "ax2 = fig.add_subplot(212, sharex=ax1)\n",
    "ax2.plot(t, s2)\n",
    "multi = MultiCursor(fig.canvas, (ax1, ax2), color='r', lw=1,\n",
    "horizOn=False, vertOn=True)\n",
    "show()"
   ]
  },
  {
   "cell_type": "code",
   "execution_count": null,
   "metadata": {
    "collapsed": true
   },
   "outputs": [],
   "source": []
  }
 ],
 "metadata": {
  "kernelspec": {
   "display_name": "Python 3",
   "language": "python",
   "name": "python3"
  }
 },
 "nbformat": 4,
 "nbformat_minor": 2
}
