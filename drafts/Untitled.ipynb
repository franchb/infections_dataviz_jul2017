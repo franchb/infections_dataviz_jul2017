{
 "cells": [
  {
   "cell_type": "code",
   "execution_count": 13,
   "metadata": {},
   "outputs": [
    {
     "data": {
      "text/html": [
       "<div>\n",
       "<style>\n",
       "    .dataframe thead tr:only-child th {\n",
       "        text-align: right;\n",
       "    }\n",
       "\n",
       "    .dataframe thead th {\n",
       "        text-align: left;\n",
       "    }\n",
       "\n",
       "    .dataframe tbody tr th {\n",
       "        vertical-align: top;\n",
       "    }\n",
       "</style>\n",
       "<table border=\"1\" class=\"dataframe\">\n",
       "  <thead>\n",
       "    <tr style=\"text-align: right;\">\n",
       "      <th></th>\n",
       "      <th>smoker</th>\n",
       "      <th>size</th>\n",
       "      <th>total_bill</th>\n",
       "      <th>tip</th>\n",
       "      <th>error_min</th>\n",
       "      <th>error_max</th>\n",
       "    </tr>\n",
       "  </thead>\n",
       "  <tbody>\n",
       "    <tr>\n",
       "      <th>0</th>\n",
       "      <td>Yes</td>\n",
       "      <td>1</td>\n",
       "      <td>5.825000</td>\n",
       "      <td>1.460000</td>\n",
       "      <td>5.399800</td>\n",
       "      <td>5.399800</td>\n",
       "    </tr>\n",
       "    <tr>\n",
       "      <th>1</th>\n",
       "      <td>Yes</td>\n",
       "      <td>2</td>\n",
       "      <td>17.955758</td>\n",
       "      <td>2.709545</td>\n",
       "      <td>1.805528</td>\n",
       "      <td>1.805528</td>\n",
       "    </tr>\n",
       "    <tr>\n",
       "      <th>2</th>\n",
       "      <td>Yes</td>\n",
       "      <td>3</td>\n",
       "      <td>28.191667</td>\n",
       "      <td>4.095000</td>\n",
       "      <td>6.898186</td>\n",
       "      <td>6.898186</td>\n",
       "    </tr>\n",
       "    <tr>\n",
       "      <th>3</th>\n",
       "      <td>Yes</td>\n",
       "      <td>4</td>\n",
       "      <td>30.609091</td>\n",
       "      <td>3.992727</td>\n",
       "      <td>5.150063</td>\n",
       "      <td>5.150063</td>\n",
       "    </tr>\n",
       "    <tr>\n",
       "      <th>4</th>\n",
       "      <td>Yes</td>\n",
       "      <td>5</td>\n",
       "      <td>29.305000</td>\n",
       "      <td>2.500000</td>\n",
       "      <td>2.263800</td>\n",
       "      <td>2.263800</td>\n",
       "    </tr>\n",
       "    <tr>\n",
       "      <th>5</th>\n",
       "      <td>Yes</td>\n",
       "      <td>6</td>\n",
       "      <td>NaN</td>\n",
       "      <td>NaN</td>\n",
       "      <td>NaN</td>\n",
       "      <td>NaN</td>\n",
       "    </tr>\n",
       "    <tr>\n",
       "      <th>6</th>\n",
       "      <td>No</td>\n",
       "      <td>1</td>\n",
       "      <td>8.660000</td>\n",
       "      <td>1.415000</td>\n",
       "      <td>2.763600</td>\n",
       "      <td>2.763600</td>\n",
       "    </tr>\n",
       "    <tr>\n",
       "      <th>7</th>\n",
       "      <td>No</td>\n",
       "      <td>2</td>\n",
       "      <td>15.342333</td>\n",
       "      <td>2.489000</td>\n",
       "      <td>0.919042</td>\n",
       "      <td>0.919042</td>\n",
       "    </tr>\n",
       "    <tr>\n",
       "      <th>8</th>\n",
       "      <td>No</td>\n",
       "      <td>3</td>\n",
       "      <td>21.009615</td>\n",
       "      <td>3.069231</td>\n",
       "      <td>2.680447</td>\n",
       "      <td>2.680447</td>\n",
       "    </tr>\n",
       "    <tr>\n",
       "      <th>9</th>\n",
       "      <td>No</td>\n",
       "      <td>4</td>\n",
       "      <td>27.769231</td>\n",
       "      <td>4.195769</td>\n",
       "      <td>3.303131</td>\n",
       "      <td>3.303131</td>\n",
       "    </tr>\n",
       "    <tr>\n",
       "      <th>10</th>\n",
       "      <td>No</td>\n",
       "      <td>5</td>\n",
       "      <td>30.576667</td>\n",
       "      <td>5.046667</td>\n",
       "      <td>11.620808</td>\n",
       "      <td>11.620808</td>\n",
       "    </tr>\n",
       "    <tr>\n",
       "      <th>11</th>\n",
       "      <td>No</td>\n",
       "      <td>6</td>\n",
       "      <td>34.830000</td>\n",
       "      <td>5.225000</td>\n",
       "      <td>9.194360</td>\n",
       "      <td>9.194360</td>\n",
       "    </tr>\n",
       "  </tbody>\n",
       "</table>\n",
       "</div>"
      ],
      "text/plain": [
       "   smoker  size  total_bill       tip  error_min  error_max\n",
       "0     Yes     1    5.825000  1.460000   5.399800   5.399800\n",
       "1     Yes     2   17.955758  2.709545   1.805528   1.805528\n",
       "2     Yes     3   28.191667  4.095000   6.898186   6.898186\n",
       "3     Yes     4   30.609091  3.992727   5.150063   5.150063\n",
       "4     Yes     5   29.305000  2.500000   2.263800   2.263800\n",
       "5     Yes     6         NaN       NaN        NaN        NaN\n",
       "6      No     1    8.660000  1.415000   2.763600   2.763600\n",
       "7      No     2   15.342333  2.489000   0.919042   0.919042\n",
       "8      No     3   21.009615  3.069231   2.680447   2.680447\n",
       "9      No     4   27.769231  4.195769   3.303131   3.303131\n",
       "10     No     5   30.576667  5.046667  11.620808  11.620808\n",
       "11     No     6   34.830000  5.225000   9.194360   9.194360"
      ]
     },
     "execution_count": 13,
     "metadata": {},
     "output_type": "execute_result"
    }
   ],
   "source": [
    "import seaborn as sns\n",
    "import numpy as np\n",
    "import matplotlib.pyplot as plt\n",
    "from scipy import stats\n",
    "tips_all = sns.load_dataset(\"tips\")\n",
    "tips_grouped = tips_all.groupby([\"smoker\", \"size\"])\n",
    "tips = tips_grouped.mean()\n",
    "tips[\"error_min\"] = tips_grouped.total_bill.apply(stats.sem) * 1.96\n",
    "tips[\"error_max\"] = tips_grouped.total_bill.apply(stats.sem) * 1.96\n",
    "tips.reset_index(inplace=True)\n",
    "tips"
   ]
  },
  {
   "cell_type": "code",
   "execution_count": 14,
   "metadata": {
    "collapsed": true
   },
   "outputs": [],
   "source": [
    "def my_errorbar(*args, **kwargs):\n",
    "    data = kwargs['data']\n",
    "    errors = np.vstack([data['error_min'], \n",
    "                        data['error_max']])\n",
    "    print(errors)\n",
    "    plt.errorbar(data[args[0]], \n",
    "                 data[args[1]], \n",
    "                 yerr=errors,\n",
    "                 **kwargs);  "
   ]
  },
  {
   "cell_type": "code",
   "execution_count": 15,
   "metadata": {
    "collapsed": true
   },
   "outputs": [],
   "source": [
    "def my_errorbar(*args, **kwargs):\n",
    "    data = kwargs.pop('data')\n",
    "    errors = np.vstack([data['error_min'], \n",
    "                        data['error_max']])\n",
    "\n",
    "    print(errors)\n",
    "\n",
    "    plt.errorbar(data[args[0]], \n",
    "                 data[args[1]], \n",
    "                 yerr=errors,\n",
    "                 **kwargs);    "
   ]
  },
  {
   "cell_type": "code",
   "execution_count": 16,
   "metadata": {},
   "outputs": [
    {
     "name": "stdout",
     "output_type": "stream",
     "text": [
      "[[ 5.3998      1.80552788  6.89818577  5.1500631   2.2638    ]\n",
      " [ 5.3998      1.80552788  6.89818577  5.1500631   2.2638    ]]\n",
      "[[  2.7636       0.9190424    2.68044722   3.30313068  11.62080751\n",
      "    9.19436049]\n",
      " [  2.7636       0.9190424    2.68044722   3.30313068  11.62080751\n",
      "    9.19436049]]\n"
     ]
    },
    {
     "data": {
      "text/plain": [
       "<seaborn.axisgrid.FacetGrid at 0x7f87531e6198>"
      ]
     },
     "execution_count": 16,
     "metadata": {},
     "output_type": "execute_result"
    }
   ],
   "source": [
    "g = sns.FacetGrid(tips, col=\"smoker\", size=5)\n",
    "g.map_dataframe(my_errorbar, \"size\", \"total_bill\", marker=\"o\")"
   ]
  },
  {
   "cell_type": "code",
   "execution_count": 17,
   "metadata": {},
   "outputs": [
    {
     "data": {
      "image/png": "[encoded data removed]",
      "text/plain": [
       "<matplotlib.figure.Figure at 0x7f8755cf7518>"
      ]
     },
     "metadata": {},
     "output_type": "display_data"
    },
    {
     "data": {
      "image/png": "[encoded data removed]",
      "text/plain": [
       "<matplotlib.figure.Figure at 0x7f8753587dd8>"
      ]
     },
     "metadata": {},
     "output_type": "display_data"
    },
    {
     "data": {
      "image/png": "[encoded data removed]",
      "text/plain": [
       "<matplotlib.figure.Figure at 0x7f875346f748>"
      ]
     },
     "metadata": {},
     "output_type": "display_data"
    },
    {
     "data": {
      "image/png": "[encoded data removed]",
      "text/plain": [
       "<matplotlib.figure.Figure at 0x7f8753346c88>"
      ]
     },
     "metadata": {},
     "output_type": "display_data"
    },
    {
     "data": {
      "image/png": "[encoded data removed]",
      "text/plain": [
       "<matplotlib.figure.Figure at 0x7f87531e6f98>"
      ]
     },
     "metadata": {},
     "output_type": "display_data"
    }
   ],
   "source": [
    "plt.show()"
   ]
  },
  {
   "cell_type": "code",
   "execution_count": 20,
   "metadata": {},
   "outputs": [
    {
     "ename": "NameError",
     "evalue": "name 'r_' is not defined",
     "output_type": "error",
     "traceback": [
      "\u001b[0;31m---------------------------------------------------------------------------\u001b[0m",
      "\u001b[0;31mNameError\u001b[0m                                 Traceback (most recent call last)",
      "\u001b[0;32m<ipython-input-20-096f8e8613c4>\u001b[0m in \u001b[0;36m<module>\u001b[0;34m()\u001b[0m\n\u001b[1;32m      6\u001b[0m \u001b[0;34m\u001b[0m\u001b[0m\n\u001b[1;32m      7\u001b[0m df = pandas.DataFrame(dict(\n\u001b[0;32m----> 8\u001b[0;31m        \u001b[0mx\u001b[0m\u001b[0;34m=\u001b[0m\u001b[0mr_\u001b[0m\u001b[0;34m[\u001b[0m\u001b[0mx\u001b[0m\u001b[0;34m.\u001b[0m\u001b[0mravel\u001b[0m\u001b[0;34m(\u001b[0m\u001b[0;34m)\u001b[0m\u001b[0;34m,\u001b[0m \u001b[0mx\u001b[0m\u001b[0;34m.\u001b[0m\u001b[0mravel\u001b[0m\u001b[0;34m(\u001b[0m\u001b[0;34m)\u001b[0m\u001b[0;34m]\u001b[0m\u001b[0;34m,\u001b[0m\u001b[0;34m\u001b[0m\u001b[0m\n\u001b[0m\u001b[1;32m      9\u001b[0m        \u001b[0my\u001b[0m\u001b[0;34m=\u001b[0m\u001b[0mr_\u001b[0m\u001b[0;34m[\u001b[0m\u001b[0my\u001b[0m\u001b[0;34m.\u001b[0m\u001b[0mravel\u001b[0m\u001b[0;34m(\u001b[0m\u001b[0;34m)\u001b[0m\u001b[0;34m,\u001b[0m \u001b[0my\u001b[0m\u001b[0;34m.\u001b[0m\u001b[0mravel\u001b[0m\u001b[0;34m(\u001b[0m\u001b[0;34m)\u001b[0m\u001b[0;34m]\u001b[0m\u001b[0;34m,\u001b[0m\u001b[0;34m\u001b[0m\u001b[0m\n\u001b[1;32m     10\u001b[0m        s=r_[\n",
      "\u001b[0;31mNameError\u001b[0m: name 'r_' is not defined"
     ]
    }
   ],
   "source": [
    "import numpy as np\n",
    "import pandas\n",
    "import seaborn as sns\n",
    "\n",
    "x, y = np.meshgrid(np.linspace(0, 100), np.linspace(0, 100))\n",
    "\n",
    "df = pandas.DataFrame(dict(\n",
    "       x=r_[x.ravel(), x.ravel()],\n",
    "       y=r_[y.ravel(), y.ravel()],\n",
    "       s=r_[\n",
    "           np.ones_like(x.ravel()),\n",
    "           np.ones_like(x.ravel()) * 10\n",
    "       ]\n",
    "))\n",
    "\n",
    "df['value'] = (\n",
    "   df.x *\n",
    "   exp(-((df.x - df.y) ** 2 / df.s ** 2))\n",
    ")\n",
    "\n",
    "g = sns.FacetGrid(df, col='s')\n",
    "\n",
    "def data_frame_to_matrix(fn):\n",
    "   def dummy(*args, **kwargs):\n",
    "       data_ = kwargs['data']\n",
    "       kwargs_ = kwargs.copy()\n",
    "       del kwargs_['data']\n",
    "       del kwargs_['color']\n",
    "       data_ = data_.pivot(args[1], args[0])[args[2]]\n",
    "       X, Y = meshgrid(data_.columns, data_.index)\n",
    "       return fn(X, Y, data_, *args[3:], **kwargs_)\n",
    "   return dummy\n",
    "\n",
    "g.map_dataframe(\n",
    "   data_frame_to_matrix(contourf),\n",
    "   'x', 'y', 'value', 5)"
   ]
  },
  {
   "cell_type": "code",
   "execution_count": null,
   "metadata": {
    "collapsed": true
   },
   "outputs": [],
   "source": []
  }
 ],
 "metadata": {
  "kernelspec": {
   "display_name": "Python 3",
   "language": "python",
   "name": "python3"
  }
 },
 "nbformat": 4,
 "nbformat_minor": 2
}
