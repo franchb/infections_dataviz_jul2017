{
 "cells": [
  {
   "cell_type": "code",
   "execution_count": 1,
   "metadata": {
    "collapsed": true
   },
   "outputs": [],
   "source": [
    "import numpy as np\n",
    "from matplotlib import pyplot as plt\n",
    "from matplotlib import animation\n",
    "nx = 50\n",
    "ny = 50"
   ]
  },
  {
   "cell_type": "code",
   "execution_count": null,
   "metadata": {
    "collapsed": true
   },
   "outputs": [],
   "source": [
    "fig = plt.figure()\n",
    "data = np.random.rand(nx, ny)\n",
    "sns.heatmap(data, vmax=.8, square=True)\n",
    "\n",
    "def init():\n",
    "      sns.heatmap(np.zeros((nx, ny)), vmax=.8, square=True)\n",
    "\n",
    "def animate(i):\n",
    "    data = np.random.rand(nx, ny)\n",
    "    sns.heatmap(data, vmax=.8, square=True)\n",
    "\n",
    "anim = animation.FuncAnimation(fig, animate, init_func=init, frames=20, repeat = False)"
   ]
  }
 ],
 "metadata": {
  "kernelspec": {
   "display_name": "Python 3",
   "language": "python",
   "name": "python3"
  },
  "language_info": {
   "codemirror_mode": {
    "name": "ipython",
    "version": 3
   },
   "file_extension": ".py",
   "mimetype": "text/x-python",
   "name": "python",
   "nbconvert_exporter": "python",
   "pygments_lexer": "ipython3",
   "version": "3.6.1"
  }
 },
 "nbformat": 4,
 "nbformat_minor": 2
}
